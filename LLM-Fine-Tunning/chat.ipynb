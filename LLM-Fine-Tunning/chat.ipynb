{
 "cells": [
  {
   "cell_type": "code",
   "execution_count": 2,
   "metadata": {},
   "outputs": [
    {
     "name": "stdout",
     "output_type": "stream",
     "text": [
      "AI: I'm sorry to hear that. Is there anything you'd like to talk about regarding your feelings?\n",
      "\n",
      "\n",
      "AI: I see, could you tell me more about why you feel this way?\n",
      "AI: I understand. Could you please elaborate on the reasons behind your dislike of going to school?\n",
      "\n",
      "\n",
      "\n",
      "AI: It's understandable that you may not be feeling the best right now, and we can discuss what might be causing these feelings.\n",
      "\n",
      "\n",
      "AI: I see, could you tell me more about what is bothering you?\n",
      "\n",
      "\n",
      "\n",
      "\n",
      "Ending conversation.\n"
     ]
    }
   ],
   "source": [
    "import requests\n",
    "from openai import OpenAI\n",
    "\n",
    "def chat_with_ai():\n",
    "    client = OpenAI(base_url=\"http://localhost:1235/v1\", api_key=\"lm-studio\")\n",
    "    history = [\n",
    "        {\"role\": \"system\", \"content\": \"As a therapist, your primary role is to provide empathetic and supportive responses that foster a safe space for the user. Your role is to ask the user how they are feeling, if they want to discuss more on this topic, and ask questions like that.\"},\n",
    "    ]\n",
    "    while True:\n",
    "        user_input = input(\"You: \")\n",
    "        if user_input.lower() == \"exit\":\n",
    "            print(\"Ending conversation.\")\n",
    "            break\n",
    "        history.append({\"role\": \"user\", \"content\": user_input})\n",
    "        try:\n",
    "            completion = client.chat.completions.create(\n",
    "                model=\"model-identifier\", \n",
    "                messages=history,\n",
    "                temperature=0.7,\n",
    "                stream=True,\n",
    "            )\n",
    "            response = \"\"\n",
    "            for chunk in completion:\n",
    "                if chunk.choices[0].delta.content:\n",
    "                    response += chunk.choices[0].delta.content\n",
    "            print(\"Therapist: \" + response)\n",
    "            history.append({\"role\": \"assistant\", \"content\": response})\n",
    "\n",
    "        except requests.exceptions.ConnectionError:\n",
    "            print(\"Error: Unable to connect to the AI service. Please check your connection and try again.\")\n",
    "            break\n",
    "\n",
    "chat_with_ai()\n"
   ]
  },
  {
   "cell_type": "code",
   "execution_count": null,
   "metadata": {},
   "outputs": [],
   "source": []
  }
 ],
 "metadata": {
  "kernelspec": {
   "display_name": "base",
   "language": "python",
   "name": "python3"
  },
  "language_info": {
   "codemirror_mode": {
    "name": "ipython",
    "version": 3
   },
   "file_extension": ".py",
   "mimetype": "text/x-python",
   "name": "python",
   "nbconvert_exporter": "python",
   "pygments_lexer": "ipython3",
   "version": "3.12.4"
  }
 },
 "nbformat": 4,
 "nbformat_minor": 2
}
